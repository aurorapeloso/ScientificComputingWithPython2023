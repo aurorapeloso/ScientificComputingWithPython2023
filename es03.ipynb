{
 "cells": [
  {
   "cell_type": "markdown",
   "metadata": {},
   "source": [
    "You can solve these exercises in the room or at home. For this week, and the next 3 weeks, exercises have to be solved by creating a single dedicated `.py` file called `03ex_representation.py`.\n",
    "\n",
    "You can divide the individual exercises in the source code with appropriate comments (`#`).\n",
    "\n",
    "The exercises need to run without errors with `python3 03ex_representation.py`."
   ]
  },
  {
   "cell_type": "markdown",
   "metadata": {},
   "source": [
    "1\\. **Number representation**\n",
    "\n",
    "Write a function that converts integer numbers among the bin, dec, and hex representations (bin<->dec<->hex).\n",
    "Determine the input type in the function, and pass another argument to choose the output representation."
   ]
  },
  {
   "cell_type": "code",
   "execution_count": 57,
   "metadata": {},
   "outputs": [
    {
     "name": "stdin",
     "output_type": "stream",
     "text": [
      "What do you want to convert:  111\n",
      "In wich representation (bin, hex, dec) :  dec\n"
     ]
    },
    {
     "name": "stdout",
     "output_type": "stream",
     "text": [
      "111 [int] --> 111 [dec]\n"
     ]
    }
   ],
   "source": [
    "import sys\n",
    "\n",
    "def converter(input, outputType):\n",
    "    \n",
    "    if \"x\" in input:\n",
    "        x = int(input,16)\n",
    "        typeIn = \"hex\"\n",
    "\n",
    "    elif \"b\" in input:\n",
    "        x = int(input,2)\n",
    "        typeIn = \"bin\"\n",
    "    \n",
    "    else:\n",
    "        typeIn = \"int\"\n",
    "        x = int(input)\n",
    "\n",
    "    if (outputType == \"bin\"):\n",
    "        return print(f'{input} [{typeIn}] --> {bin(x)} [{outputType}]')\n",
    "        \n",
    "    if (outputType == \"dec\"):\n",
    "         return print(f'{input} [{typeIn}] --> {x} [{outputType}]')\n",
    "\n",
    "    if (outputType == \"hex\"):\n",
    "        return print(f'{input} [{typeIn}] --> {hex(x)} [{outputType}]')\n",
    "\n",
    "x = input(\"What do you want to convert: \") \n",
    "baseOut = input(\"In wich representation (bin, hex, dec) : \")\n",
    "converter(x,baseOut)"
   ]
  },
  {
   "cell_type": "markdown",
   "metadata": {},
   "source": [
    "2\\. **32-bit floating point number**\n",
    "\n",
    "Write a function that converts a 32 bit binary string (for example, `110000101011000000000000`) into a single precision floating point in decimal representation. Interpret the various bits as sign, fractional part of the mantissa and exponent, according to the IEEE 754 reccommendations."
   ]
  },
  {
   "cell_type": "code",
   "execution_count": 95,
   "metadata": {},
   "outputs": [
    {
     "name": "stdin",
     "output_type": "stream",
     "text": [
      "Insert 32 bits (for example 110000101011000000000000):  11111111110000000000000000000001\n"
     ]
    },
    {
     "name": "stdout",
     "output_type": "stream",
     "text": [
      "Mantissa 1.5000001192092896\n",
      "Exponent 255\n"
     ]
    },
    {
     "data": {
      "text/plain": [
       "'NaN'"
      ]
     },
     "execution_count": 95,
     "metadata": {},
     "output_type": "execute_result"
    }
   ],
   "source": [
    "#EXERCISE 2\n",
    "\n",
    "def singPrec(input):\n",
    "    newIn = \"\"\n",
    "\n",
    "    for i in range(len(input),32):\n",
    "        newIn += \"0\"\n",
    "        \n",
    "    for i in range(0,len(input)):\n",
    "        newIn += input[i]\n",
    "\n",
    "    #bit 0 = sign\n",
    "    sign = newIn[0]\n",
    "\n",
    "    #bits from 1 to 8 = exponent\n",
    "    exponentCalc = int(newIn[1:9],2)\n",
    "\n",
    "    #bits from 9 to 31\n",
    "    mantissa = newIn[9:32]\n",
    "    mantissaCalc = 1\n",
    "    for x in range(1,24):\n",
    "        mantissaCalc += int(mantissa[x-1]) * 2**(-x)\n",
    "    \n",
    "    #special values\n",
    "    if (sign == \"0\" and exponentCalc == 255 and (mantissaCalc - 1) == 0):\n",
    "        return(\"+INF\")\n",
    "    elif (sign == \"1\" and exponentCalc == 255 and (mantissaCalc - 1) == 0):\n",
    "        return(\"-INF\")\n",
    "    elif (exponentCalc == 255 and (mantissaCalc - 1) > 0):\n",
    "        return(\"NaN\")\n",
    "    \n",
    "    if sign == \"0\":\n",
    "        singPrecCalc = mantissaCalc * 2**(exponentCalc-127)\n",
    "        return print(\"The single precision floating point number is :\",singPrecCalc)\n",
    "        \n",
    "    elif sign == \"1\":\n",
    "        singPrecCalc = -mantissaCalc * 2**(exponentCalc-127)\n",
    "        return print(\"The single precision floating point number is :\",singPrecCalc)\n",
    " \n",
    "input32 = input(\"Insert 32 bits (for example 110000101011000000000000): \")\n",
    "\n",
    "#examples \n",
    "#00000011111000000000000000000000\n",
    "#11000000101100000000000000000000\n",
    "\n",
    "#infinity\n",
    "#01111111100000000000000000000000\n",
    "\n",
    "#-infinity\n",
    "#11111111100000000000000000000000\n",
    "\n",
    "#NaN\n",
    "#11111111110000000000000000000000\n",
    "#01111111100000000000000010000001\n",
    "#11111111110000000000000000000001\n",
    "\n",
    "singPrec(input32)"
   ]
  },
  {
   "cell_type": "markdown",
   "metadata": {},
   "source": [
    "3\\. **Underflow and overflow**\n",
    "\n",
    "Write a program to determine the approximate underflow and overflow limits (within a factor of 2) for floating point numbers on your computer. \n",
    "\n",
    "*Hint*: define two variables initialized to 1, and halve/double them for a sufficient amount of times to exceed the under/over-flow limits."
   ]
  },
  {
   "cell_type": "code",
   "execution_count": 3,
   "metadata": {},
   "outputs": [
    {
     "name": "stdout",
     "output_type": "stream",
     "text": [
      "Overflow limit:  8.98846567431158e+307\n",
      "Underflow limit:  5e-324\n"
     ]
    }
   ],
   "source": [
    "#EXERCISE 3\n",
    "#overflow limit\n",
    "var = float(1) #starting point\n",
    "list1 = [var]\n",
    "i = 0\n",
    "flag = False\n",
    "\n",
    "while( flag == False):\n",
    "    #print(var)\n",
    "    var = var *2\n",
    "    list1.append(var)\n",
    "    old = list1[i]\n",
    "    \n",
    "    if ( old.hex() == var.hex() ):\n",
    "        flag = True\n",
    "    i = i+1\n",
    "print(\"Overflow limit: \",list1[i-2])\n",
    "\n",
    "#underflow limit\n",
    "var = float(1) #starting point\n",
    "list2 = [var]\n",
    "i = 0\n",
    "flag = False\n",
    "\n",
    "while( flag == False):\n",
    "    #print(var)\n",
    "    var = var / 2\n",
    "    list2.append(var)\n",
    "    old = list2[i]\n",
    "    \n",
    "    if ( old.hex() == var.hex() ):\n",
    "        flag = True\n",
    "    i = i+1\n",
    "print(\"Underflow limit: \",list2[i-2])\n",
    "\n",
    "\n",
    "\n",
    "    \n",
    "\n",
    "\n"
   ]
  },
  {
   "cell_type": "markdown",
   "metadata": {},
   "source": [
    "4\\. **Machine precision**\n",
    "\n",
    "Similarly to the previous exercise, write a program to determine the machine precision for floating point numbers.\n",
    "\n",
    "*Hint*: define a new variable by adding an increasingly smaller value and check when the addition starts to have no effect on the number."
   ]
  },
  {
   "cell_type": "code",
   "execution_count": 5,
   "metadata": {},
   "outputs": [
    {
     "name": "stdout",
     "output_type": "stream",
     "text": [
      "Initial number:  1.0\n",
      "+ increment of  1.0 --> 0x1.0000000000000p+1\n",
      "+ increment of  0.1 --> 0x1.0cccccccccccdp+1\n",
      "+ increment of  0.01 --> 0x1.0e147ae147ae1p+1\n",
      "+ increment of  0.001 --> 0x1.0e353f7ced916p+1\n",
      "+ increment of  0.0001 --> 0x1.0e3886594af4fp+1\n",
      "+ increment of  1e-05 --> 0x1.0e38da3c21188p+1\n",
      "+ increment of  1e-06 --> 0x1.0e38e29f9ce8ep+1\n",
      "+ increment of  1e-07 --> 0x1.0e38e3765c7dbp+1\n",
      "+ increment of  1e-08 --> 0x1.0e38e38bd60c9p+1\n",
      "+ increment of  1e-09 --> 0x1.0e38e38dfbce1p+1\n",
      "+ increment of  1e-10 --> 0x1.0e38e38e32c7dp+1\n",
      "+ increment of  1e-11 --> 0x1.0e38e38e38473p+1\n",
      "+ increment of  1e-12 --> 0x1.0e38e38e38d3fp+1\n",
      "+ increment of  1e-13 --> 0x1.0e38e38e38e20p+1\n",
      "+ increment of  1e-14 --> 0x1.0e38e38e38e37p+1\n",
      "+ increment of  1e-15 --> 0x1.0e38e38e38e39p+1\n",
      "+ increment of  1e-16 --> 0x1.0e38e38e38e39p+1\n",
      "    No more effects on the number\n",
      "Machine precision:  1e-15\n"
     ]
    }
   ],
   "source": [
    "#EXERCISE 4\n",
    "#underflow limit\n",
    "var = float(1) #starting point\n",
    "list2 = [var]\n",
    "i = 0\n",
    "flag = False\n",
    "print(\"Initial number: \",var)\n",
    "\n",
    "while( flag == False):\n",
    "    var = var + 1/ (10**i)\n",
    "    print(\"+ increment of \",1/ (10**i),\"-->\",var.hex())\n",
    "    list2.append(var)\n",
    "    old = list2[i]\n",
    "    \n",
    "    if ( old.hex() == var.hex() ):\n",
    "        flag = True\n",
    "    i = i+1\n",
    "print(\"    No more effects on the number\")\n",
    "print(\"Machine precision: \",1/ (10** (i-2)) )\n"
   ]
  },
  {
   "cell_type": "markdown",
   "metadata": {},
   "source": [
    "5\\. **Quadratic solution**\n",
    "\n",
    "Write a function that takes in input three parameters $a$, $b$ and $c$ and prints out the two solutions to the quadratic equation $ax^2+bx+c=0$ using the standard formula:\n",
    "$$\n",
    "x=\\frac{-b\\pm\\sqrt{b^2-4ac}}{2a}\n",
    "$$\n",
    "\n",
    "(a) use the function to compute the solution for $a=0.001$, $b=1000$ and $c=0.001$\n",
    "\n",
    "(b) re-express the standard solution formula by multiplying the numerator and the denominator by $-b\\mp\\sqrt{b^2-4ac}$ and again find the solution for $a=0.001$, $b=1000$ and $c=0.001$. How does it compare with what has been previously obtained, and why? (add the answer to a Python comment)\n",
    "\n",
    "(c) write a function that computes the roots of a quadratic equation accurately in all cases"
   ]
  },
  {
   "cell_type": "code",
   "execution_count": 74,
   "metadata": {
    "scrolled": true
   },
   "outputs": [
    {
     "name": "stdout",
     "output_type": "stream",
     "text": [
      "(-9.999894245993346e-07, -999999.999999)\n",
      "(-9.999894245993346e-07, -999999.999999)\n",
      "(-9.999894245993346e-07, -999999.999999)\n",
      "True\n"
     ]
    }
   ],
   "source": [
    "import math\n",
    "#a\n",
    "def quad_res(a,b,c):\n",
    "    x1 = ( - b + math.sqrt(b**2 - 4 * a * c) ) / (2*a)\n",
    "    x2 = ( - b - math.sqrt(b**2 - 4 * a * c) ) / (2*a)\n",
    "    return x1,x2\n",
    "    \n",
    "print(quad_res(0.001,1000,0.001))\n",
    "\n",
    "#b\n",
    "def quad_res_mod(a,b,c):\n",
    "    y1 = ( (- b + math.sqrt(b**2 - 4 * a * c)) * (- b + math.sqrt(b**2 - 4 * a * c)) ) / ( (- b + math.sqrt(b**2 - 4 * a * c) )*(2*a))\n",
    "    y2 = ( (- b - math.sqrt(b**2 - 4 * a * c)) * (- b - math.sqrt(b**2 - 4 * a * c)) ) / ( (- b - math.sqrt(b**2 - 4 * a * c) )*(2*a))\n",
    "    return y1,y2\n",
    "\n",
    "def quad_res_mod2(a,b,c):\n",
    "    y1 =  ((- b + math.sqrt(b**2 - 4 * a * c)) /(2*a)) * ((- b + math.sqrt(b**2 - 4 * a * c))/(- b + math.sqrt(b**2 - 4 * a * c)))\n",
    "    y2 =  ((- b - math.sqrt(b**2 - 4 * a * c)) /(2*a)) * ((- b - math.sqrt(b**2 - 4 * a * c))/(- b - math.sqrt(b**2 - 4 * a * c)))\n",
    "    return y1,y2\n",
    "\n",
    "print(quad_res_mod(0.001,1000,0.001))\n",
    "print(quad_res_mod2(0.001,1000,0.001))\n",
    "\n",
    "print(quad_res(0.001,1000,0.001) == quad_res_mod(0.001,1000,0.001))\n",
    "\n",
    "#c\n",
    "def quad_res_c(a,b,c):\n",
    "    if((b**2 - 4 * a * c) < 0):\n",
    "        return(\"Impossibile\")\n",
    "    x1 = ( - b + math.sqrt(b**2 - 4 * a * c) ) / (2*a)\n",
    "    x2 = ( - b - math.sqrt(b**2 - 4 * a * c) ) / (2*a)\n",
    "    return x1.hex(),x2.hex()\n",
    "\n"
   ]
  },
  {
   "cell_type": "markdown",
   "metadata": {},
   "source": [
    "6\\. **The derivative**\n",
    "\n",
    "Write a program that implements the function $f(x)=x(x−1)$\n",
    "\n",
    "(a) Calculate the derivative of the function at the point $x = 1$ using the derivative definition:\n",
    "\n",
    "$$\n",
    "\\frac{{\\rm d}f}{{\\rm d}x} = \\lim_{\\delta\\to0} \\frac{f(x+\\delta)-f(x)}{\\delta}\n",
    "$$\n",
    "\n",
    "with $\\delta = 10^{−2}$. Calculate the true value of the same derivative analytically and compare it with the answer your program gives. The two will not agree perfectly. Why?\n",
    "\n",
    "(b) Repeat the calculation for $\\delta = 10^{−4}, 10^{−6}, 10^{−8}, 10^{−10}, 10^{−12}$ and $10^{−14}$. How does the accuracy scale with $\\delta$?"
   ]
  },
  {
   "cell_type": "code",
   "execution_count": 82,
   "metadata": {},
   "outputs": [
    {
     "name": "stdout",
     "output_type": "stream",
     "text": [
      "1.010000000000001\n",
      "1.0000999999998899 error=  -9.999999988985486e-05\n",
      "1.0000009999177333 error=  -9.99917733279787e-07\n",
      "1.0000000039225287 error=  -3.922528746258536e-09\n",
      "1.000000082840371 error=  -8.284037100736441e-08\n",
      "1.0000889005833413 error=  -8.890058334132256e-05\n",
      "0.9992007221626509 error=  0.0007992778373491216\n"
     ]
    }
   ],
   "source": [
    "#EXERCISE 6 \n",
    "#a)\n",
    "def func_f(x):\n",
    "    return x * (x - 1)\n",
    "\n",
    "delta = 10**-2\n",
    "der = (func_f(1+delta) - func_f(1)) / delta\n",
    "print(der)\n",
    "\n",
    "#the true value of the derivative is 1.\n",
    "\n",
    "#b)\n",
    "delta4 = 10**-4\n",
    "der = (func_f(1+delta4) - func_f(1)) / delta4\n",
    "print(der,\"error= \",1-der)\n",
    "\n",
    "delta6 = 10**-6\n",
    "der = (func_f(1+delta6) - func_f(1)) / delta6\n",
    "print(der,\"error= \",1-der)\n",
    "\n",
    "delta8 = 10**-8\n",
    "der = (func_f(1+delta8) - func_f(1)) / delta8\n",
    "print(der,\"error= \",1-der)\n",
    "\n",
    "delta10 = 10**-10\n",
    "der = (func_f(1+delta10) - func_f(1)) / delta10\n",
    "print(der,\"error= \",1-der)\n",
    "\n",
    "delta12 = 10**-12\n",
    "der = (func_f(1+delta12) - func_f(1)) / delta12\n",
    "print(der,\"error= \",1-der)\n",
    "\n",
    "delta14 = 10**-14\n",
    "der = (func_f(1+delta14) - func_f(1)) / delta14\n",
    "print(der,\"error= \",1-der)\n",
    "\n",
    "#The error between the true value and the function is decreasing passing from a delta = 10**-2 to a delta= 10**-8 (the one with minimal error).\n",
    "#Then, starting from delta = 10**-8 the error restart to increase until the last value.\n"
   ]
  },
  {
   "cell_type": "markdown",
   "metadata": {},
   "source": [
    "7\\. **Integral of a semicircle**\n",
    "\n",
    "Consider the integral of the semicircle of radius 1:\n",
    "$$\n",
    "I=\\int_{-1}^{1} \\sqrt(1-x^2) {\\rm d}x\n",
    "$$\n",
    "which is known to be $I=\\frac{\\pi}{2}=1.57079632679...$.\n",
    "\n",
    "Alternatively we can use the Riemann definition of the integral:\n",
    "$$\n",
    "I=\\lim_{N\\to\\infty} \\sum_{k=1}^{N} h y_k \n",
    "$$\n",
    "\n",
    "with $h=2/N$ the width of each of the $N$ slices the domain is divided into and where\n",
    "$y_k$ is the value of the function at the $k-$th slice.\n",
    "\n",
    "(a) Write a program to compute the integral with $N=100$. How does the result compare to the true value?\n",
    "\n",
    "(b) How much can $N$ be increased if the computation needs to be run in less than a second? What is the gain in running it for 1 minute? Use `timeit` to measure the time."
   ]
  },
  {
   "cell_type": "code",
   "execution_count": 89,
   "metadata": {},
   "outputs": [
    {
     "name": "stdout",
     "output_type": "stream",
     "text": [
      "1.5595543058008232\n"
     ]
    }
   ],
   "source": [
    "import math\n",
    "def Riemann(N):\n",
    "    sum = 0\n",
    "    k = -1\n",
    "    for i in range(1,N-1):\n",
    "        fK = math.sqrt(1 - k**2)\n",
    "        sum += 2/N * fK\n",
    "        k += 2/100\n",
    "    return sum\n",
    "print(Riemann(100))"
   ]
  },
  {
   "cell_type": "code",
   "execution_count": null,
   "metadata": {},
   "outputs": [],
   "source": []
  }
 ],
 "metadata": {
  "kernelspec": {
   "display_name": "Python 3 (ipykernel)",
   "language": "python",
   "name": "python3"
  },
  "language_info": {
   "codemirror_mode": {
    "name": "ipython",
    "version": 3
   },
   "file_extension": ".py",
   "mimetype": "text/x-python",
   "name": "python",
   "nbconvert_exporter": "python",
   "pygments_lexer": "ipython3",
   "version": "3.11.6"
  }
 },
 "nbformat": 4,
 "nbformat_minor": 4
}
